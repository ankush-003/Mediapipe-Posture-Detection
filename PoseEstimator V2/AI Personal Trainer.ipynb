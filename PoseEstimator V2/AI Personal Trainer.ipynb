{
 "cells": [
  {
   "cell_type": "code",
   "execution_count": 1,
   "metadata": {},
   "outputs": [
    {
     "name": "stdout",
     "output_type": "stream",
     "text": [
      "Collecting pytube\n",
      "  Downloading pytube-12.1.2-py3-none-any.whl (57 kB)\n",
      "     -------------------------------------- 57.0/57.0 kB 995.4 kB/s eta 0:00:00\n",
      "Installing collected packages: pytube\n",
      "Successfully installed pytube-12.1.2\n",
      "Note: you may need to restart the kernel to use updated packages.\n"
     ]
    }
   ],
   "source": [
    "%pip install pytube\n",
    "import cv2\n",
    "import mediapipe as mp\n",
    "import time\n",
    "import numpy as np"
   ]
  },
  {
   "cell_type": "code",
   "execution_count": 3,
   "metadata": {},
   "outputs": [],
   "source": [
    "cap = cv2.VideoCapture(\"jjtest1.mp4\")\n",
    "while True:\n",
    "    success, img = cap.read()\n",
    "    cv2.imshow(\"Image\", img)\n",
    "    if cv2.waitKey(1) & 0xFF == ord('q'):\n",
    "        break\n",
    "cap.release()    \n",
    "cv2.destroyAllWindows()    "
   ]
  },
  {
   "cell_type": "code",
   "execution_count": 2,
   "metadata": {},
   "outputs": [
    {
     "name": "stdout",
     "output_type": "stream",
     "text": [
      "Download is completed successfully\n"
     ]
    }
   ],
   "source": [
    "# download yt video\n",
    "from pytube import YouTube\n",
    "\n",
    "def Download(link):\n",
    "    youtubeObject = YouTube(link)\n",
    "    youtubeObject = youtubeObject.streams.get_highest_resolution()\n",
    "    try:\n",
    "        youtubeObject.download()\n",
    "    except:\n",
    "        print(\"An error has occurred\")\n",
    "    print(\"Download is completed successfully\")\n",
    "\n",
    "\n",
    "link = input(\"Enter the YouTube video URL: \")\n",
    "Download(link)"
   ]
  },
  {
   "cell_type": "code",
   "execution_count": 5,
   "metadata": {},
   "outputs": [],
   "source": [
    "import PoseDetector as pd"
   ]
  },
  {
   "cell_type": "code",
   "execution_count": 6,
   "metadata": {},
   "outputs": [],
   "source": [
    "detector = pd.PoseDetector()\n",
    "direction = 0;\n",
    "count = 0;\n",
    "ptime = 0\n",
    "cap = cv2.VideoCapture(\"jjtest1.mp4\")\n",
    "frame_width = int(cap.get(3))\n",
    "frame_height = int(cap.get(4))\n",
    "while True:\n",
    "    success, img = cap.read()\n",
    "    \n",
    "    image = detector.findPose(img)\n",
    "    lmList = detector.findPosition(img, draw=False)\n",
    "    # print(lmList, end=\"\\n\")\n",
    "    if len(lmList) != 0:\n",
    "        #right arm\n",
    "        # detector.findAngle(img, 12, 14, 16)\n",
    "        #left arm\n",
    "        angle = detector.findAngle(img, 11, 13, 15)\n",
    "        \n",
    "        per = np.interp(angle, (30, 130), (0, 100))\n",
    "        bar = np.interp(angle, (30, 130), (frame_width, 0))\n",
    "        # print(per,bar)\n",
    "        # check curl\n",
    "        if per == 100:\n",
    "            # color = (0, 255, 0)\n",
    "            if direction == 0:\n",
    "                count += 0.5\n",
    "                direction = 1\n",
    "        if per == 0:\n",
    "            # color = (0, 255, 0)\n",
    "            if direction == 1:\n",
    "                count += 0.5\n",
    "                direction = 0\n",
    "                \n",
    "        # print(count)        \n",
    "        # cv2.rectangle(img, (0, 450), (250, 720), (0, 255, 0), 2)\n",
    "        # cv2.putText(img, str(int(count)), (45, 678), cv2.FONT_HERSHEY_PLAIN, 2, (0, 0, 255), 2)\n",
    "        # cv2.rectangle(img, (1000, 100), (1150, 500), (0, 255, 0), 3)\n",
    "        # cv2.rectangle(img, (1000, int(bar)), (1150, 500), (0, 255, 0), cv2.FILLED)\n",
    "        # cv2.putText(img, f'{int(per)} %', (1100, 75), cv2.FONT_HERSHEY_PLAIN, 2, (0, 255, 0), 2)\n",
    "        # cv2.rectangle(img, (0, 450), (250, 720), (0, 255, 0), cv2.FILLED)\n",
    "        cv2.rectangle(img, (0,0), (frame_width, 50), (0,255,0), 2)\n",
    "        cv2.rectangle(img, (0,0), (int(bar), 50), (0,255,0), cv2.FILLED)\n",
    "        cv2.putText(img,\"count: \" + str(int(count)), (200, 30), cv2.FONT_HERSHEY_PLAIN, 2, (255, 255, 255), 2)           \n",
    "    # detector.findAngle(img, 12, 14, 16)\n",
    "    ctime = time.time()\n",
    "    fps = 1/(ctime-ptime)\n",
    "    ptime = ctime\n",
    "    cv2.putText(img, \"fps: \" + str(int(fps)), (10, 30), cv2.FONT_HERSHEY_PLAIN, 2, (255, 255, 255), 2)\n",
    "    cv2.imshow(\"Image\", image)\n",
    "    if cv2.waitKey(5) & 0xFF == ord('q'):\n",
    "        break\n",
    "cap.release()    \n",
    "cv2.destroyAllWindows()   "
   ]
  },
  {
   "cell_type": "code",
   "execution_count": null,
   "metadata": {},
   "outputs": [],
   "source": []
  }
 ],
 "metadata": {
  "kernelspec": {
   "display_name": "Python 3",
   "language": "python",
   "name": "python3"
  },
  "language_info": {
   "codemirror_mode": {
    "name": "ipython",
    "version": 3
   },
   "file_extension": ".py",
   "mimetype": "text/x-python",
   "name": "python",
   "nbconvert_exporter": "python",
   "pygments_lexer": "ipython3",
   "version": "3.10.7 (tags/v3.10.7:6cc6b13, Sep  5 2022, 14:08:36) [MSC v.1933 64 bit (AMD64)]"
  },
  "orig_nbformat": 4,
  "vscode": {
   "interpreter": {
    "hash": "06d27cae120c8794265ed279269c4c44da5cbce9399fe3541c085bdf7bc3ff29"
   }
  }
 },
 "nbformat": 4,
 "nbformat_minor": 2
}
